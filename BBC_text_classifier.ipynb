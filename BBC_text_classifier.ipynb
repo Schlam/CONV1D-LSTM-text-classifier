{
  "nbformat": 4,
  "nbformat_minor": 0,
  "metadata": {
    "orig_nbformat": 2,
    "file_extension": ".py",
    "mimetype": "text/x-python",
    "name": "python",
    "npconvert_exporter": "python",
    "pygments_lexer": "ipython3",
    "version": 3,
    "kernelspec": {
      "name": "python3",
      "display_name": "Python 3"
    },
    "colab": {
      "name": "BBC-text-classifier.ipynb",
      "provenance": []
    },
    "accelerator": "GPU"
  },
  "cells": [
    {
      "cell_type": "code",
      "metadata": {
        "id": "1YABbgEvQGx9",
        "colab_type": "code",
        "outputId": "0e1ea860-f4db-4864-86ca-86bcfd92412f",
        "colab": {
          "base_uri": "https://localhost:8080/",
          "height": 34
        }
      },
      "source": [
        "# Uncomment line below if working in a CoLab environment\n",
        "#!pip install tensorflow==2.1.0\n",
        "import tensorflow as tf\n",
        "print(tf.__version__)"
      ],
      "execution_count": 1,
      "outputs": [
        {
          "output_type": "stream",
          "text": [
            "2.1.0\n"
          ],
          "name": "stdout"
        }
      ]
    },
    {
      "cell_type": "markdown",
      "metadata": {
        "id": "Y4OPrXhJbMSE",
        "colab_type": "text"
      },
      "source": [
        "#### $ \\S \\text{ Preprocessing}$\n",
        "\n",
        "#### BBC Data Pipeline"
      ]
    },
    {
      "cell_type": "code",
      "metadata": {
        "id": "cDyfwPsn_Rxb",
        "colab_type": "code",
        "colab": {
          "base_uri": "https://localhost:8080/",
          "height": 212
        },
        "outputId": "d379cd4b-9f42-4787-d750-e7ad3e9b7607"
      },
      "source": [
        "from tensorflow.keras.preprocessing.sequence import pad_sequences\n",
        "from tensorflow.keras.preprocessing.text import Tokenizer\n",
        "import tensorflow as tf\n",
        "import numpy as np\n",
        "import csv\n",
        "import os\n",
        "\n",
        "!wget --no-check-certificate \\\n",
        "    https://storage.googleapis.com/laurencemoroney-blog.appspot.com/bbc-text.csv \\\n",
        "    -O /tmp/bbc-text.csv"
      ],
      "execution_count": 2,
      "outputs": [
        {
          "output_type": "stream",
          "text": [
            "--2020-03-21 02:21:32--  https://storage.googleapis.com/laurencemoroney-blog.appspot.com/bbc-text.csv\n",
            "Resolving storage.googleapis.com (storage.googleapis.com)... 74.125.195.128, 2607:f8b0:400e:c06::80\n",
            "Connecting to storage.googleapis.com (storage.googleapis.com)|74.125.195.128|:443... connected.\n",
            "HTTP request sent, awaiting response... 200 OK\n",
            "Length: 5057493 (4.8M) [application/octet-stream]\n",
            "Saving to: ‘/tmp/bbc-text.csv’\n",
            "\n",
            "\r/tmp/bbc-text.csv     0%[                    ]       0  --.-KB/s               \r/tmp/bbc-text.csv   100%[===================>]   4.82M  --.-KB/s    in 0.02s   \n",
            "\n",
            "2020-03-21 02:21:32 (216 MB/s) - ‘/tmp/bbc-text.csv’ saved [5057493/5057493]\n",
            "\n"
          ],
          "name": "stdout"
        }
      ]
    },
    {
      "cell_type": "code",
      "metadata": {
        "id": "-Y_xeAyCBph5",
        "colab_type": "code",
        "colab": {}
      },
      "source": [
        "\n",
        "os.chdir(\"/tmp\")\n",
        "data = []\n",
        "labels = []\n",
        "\n",
        "\n",
        "with open(\"bbc-text.csv\", 'r') as f:\n",
        "  reader = csv.reader(f)\n",
        "  next(reader)\n",
        "  \n",
        "  for row in reader:\n",
        "    data.append(row[1])\n",
        "    labels.append(row[0])\n",
        "\n",
        "# Embedding parameters\n",
        "vocab_size = 2000\n",
        "embedding_dim = 16\n",
        "max_length = 1000\n",
        "trunc_type = \"post\"\n",
        "oov_token = \"<OOV>\"\n",
        "\n",
        "\n",
        "# Percentage of data to use for validation\n",
        "partition_size = 0.8\n",
        "split = int(len(data)*partition_size)\n",
        "train_data = data[split:]\n",
        "test_data = data[:split]\n",
        "\n",
        "\n",
        "# Fit tokenizer to training data, and sequnce\n",
        "data_tokenizer = Tokenizer(num_words = vocab_size, oov_token = oov_token)\n",
        "label_tokenizer = Tokenizer(num_words = len(set(labels)))\n",
        "data_tokenizer.fit_on_texts(train_data)\n",
        "label_tokenizer.fit_on_texts(labels)\n",
        "\n",
        "# Load and reverse word index\n",
        "word_index = data_tokenizer.word_index\n",
        "label_index = label_tokenizer.word_index\n",
        "reverse_index = {val:key for key,val in word_index.items()}\n",
        "\n",
        "# Tokenize and encode \n",
        "train_seq = data_tokenizer.texts_to_sequences(train_data) \n",
        "test_seq = data_tokenizer.texts_to_sequences(test_data)\n",
        "label_seq = [label_index[label] for label in labels]\n",
        "\n",
        "# Pad sequences \n",
        "train_pad = pad_sequences(train_seq, maxlen=max_length, truncating=trunc_type)\n",
        "test_pad = pad_sequences(test_seq, maxlen=max_length, truncating=trunc_type)\n",
        "\n",
        "# Fully processed data\n",
        "train_data = np.array(train_pad)\n",
        "test_data = np.array(test_pad)\n",
        "\n",
        "# Preprocess labels\n",
        "train_labels = np.array(label_seq[split:])\n",
        "test_labels = np.array(label_seq[:split])\n"
      ],
      "execution_count": 0,
      "outputs": []
    },
    {
      "cell_type": "code",
      "metadata": {
        "id": "H-8iJPxeONH5",
        "colab_type": "code",
        "outputId": "b535f647-65b6-4f95-b7c9-1ca4f99ce349",
        "colab": {
          "base_uri": "https://localhost:8080/",
          "height": 336
        }
      },
      "source": [
        "tf.keras.backend.clear_session()\n",
        "\n",
        "# Embedding parameters\n",
        "vocab_size = 2000\n",
        "embedding_dim = 16\n",
        "max_length = 1000\n",
        "trunc_type = \"post\"\n",
        "oov_token = \"<OOV>\"\n",
        "\n",
        "# Convolution Parameters\n",
        "filters1 = 128\n",
        "kernel_size1 = 5\n",
        "strides1 = 1\n",
        "\n",
        "\n",
        "model = tf.keras.Sequential([\n",
        "                             \n",
        "    tf.keras.layers.Embedding(input_dim = vocab_size, \n",
        "                              output_dim = embedding_dim, \n",
        "                              input_length = max_length),\n",
        "                             \n",
        "    tf.keras.layers.Conv1D(filters = filters1,\n",
        "                         kernel_size = kernel_size1,\n",
        "                         padding = \"causal\",\n",
        "                         strides = strides1),\n",
        "\n",
        "    tf.keras.layers.Bidirectional(tf.keras.layers.LSTM(32)),\n",
        "    \n",
        "    tf.keras.layers.Dense(36, activation='relu'),\n",
        "    \n",
        "    tf.keras.layers.Dense(6, activation='sigmoid')\n",
        "\n",
        "])\n",
        "\n",
        "\n",
        "model.compile(loss=\"sparse_categorical_crossentropy\", \n",
        "              optimizer=\"adam\", \n",
        "              metrics=['accuracy'])\n",
        "\n",
        "model.summary()\n"
      ],
      "execution_count": 4,
      "outputs": [
        {
          "output_type": "stream",
          "text": [
            "Model: \"sequential\"\n",
            "_________________________________________________________________\n",
            "Layer (type)                 Output Shape              Param #   \n",
            "=================================================================\n",
            "embedding (Embedding)        (None, 1000, 16)          32000     \n",
            "_________________________________________________________________\n",
            "conv1d (Conv1D)              (None, 1000, 128)         10368     \n",
            "_________________________________________________________________\n",
            "bidirectional (Bidirectional (None, 64)                41216     \n",
            "_________________________________________________________________\n",
            "dense (Dense)                (None, 36)                2340      \n",
            "_________________________________________________________________\n",
            "dense_1 (Dense)              (None, 6)                 222       \n",
            "=================================================================\n",
            "Total params: 86,146\n",
            "Trainable params: 86,146\n",
            "Non-trainable params: 0\n",
            "_________________________________________________________________\n"
          ],
          "name": "stdout"
        }
      ]
    },
    {
      "cell_type": "code",
      "metadata": {
        "id": "kzxvV2pbcgBo",
        "colab_type": "code",
        "outputId": "743a9937-d185-4132-c848-1689f67d3ead",
        "colab": {
          "base_uri": "https://localhost:8080/",
          "height": 745
        }
      },
      "source": [
        "epochs = 20\n",
        "history = model.fit(train_data, \n",
        "                    train_labels, \n",
        "                    epochs=epochs, \n",
        "                    verbose=1,\n",
        "                    validation_data=(test_data, test_labels))"
      ],
      "execution_count": 5,
      "outputs": [
        {
          "output_type": "stream",
          "text": [
            "Train on 445 samples, validate on 1780 samples\n",
            "Epoch 1/20\n",
            "445/445 [==============================] - 6s 13ms/sample - loss: 1.7688 - accuracy: 0.2157 - val_loss: 1.7139 - val_accuracy: 0.2270\n",
            "Epoch 2/20\n",
            "445/445 [==============================] - 2s 5ms/sample - loss: 1.6488 - accuracy: 0.2382 - val_loss: 1.6114 - val_accuracy: 0.2270\n",
            "Epoch 3/20\n",
            "445/445 [==============================] - 2s 5ms/sample - loss: 1.6028 - accuracy: 0.2382 - val_loss: 1.6084 - val_accuracy: 0.2270\n",
            "Epoch 4/20\n",
            "445/445 [==============================] - 2s 5ms/sample - loss: 1.5997 - accuracy: 0.2382 - val_loss: 1.6067 - val_accuracy: 0.2270\n",
            "Epoch 5/20\n",
            "445/445 [==============================] - 2s 5ms/sample - loss: 1.5981 - accuracy: 0.2382 - val_loss: 1.6093 - val_accuracy: 0.2270\n",
            "Epoch 6/20\n",
            "445/445 [==============================] - 2s 5ms/sample - loss: 1.5938 - accuracy: 0.2539 - val_loss: 1.6028 - val_accuracy: 0.2522\n",
            "Epoch 7/20\n",
            "445/445 [==============================] - 2s 5ms/sample - loss: 1.5847 - accuracy: 0.2404 - val_loss: 1.5972 - val_accuracy: 0.2433\n",
            "Epoch 8/20\n",
            "445/445 [==============================] - 2s 5ms/sample - loss: 1.5445 - accuracy: 0.3281 - val_loss: 1.5600 - val_accuracy: 0.3056\n",
            "Epoch 9/20\n",
            "445/445 [==============================] - 2s 5ms/sample - loss: 1.4235 - accuracy: 0.4202 - val_loss: 1.4223 - val_accuracy: 0.4079\n",
            "Epoch 10/20\n",
            "445/445 [==============================] - 2s 5ms/sample - loss: 1.1334 - accuracy: 0.6360 - val_loss: 1.2169 - val_accuracy: 0.4697\n",
            "Epoch 11/20\n",
            "445/445 [==============================] - 2s 5ms/sample - loss: 0.9376 - accuracy: 0.6000 - val_loss: 1.2463 - val_accuracy: 0.4567\n",
            "Epoch 12/20\n",
            "445/445 [==============================] - 2s 5ms/sample - loss: 0.7527 - accuracy: 0.6809 - val_loss: 1.1184 - val_accuracy: 0.5573\n",
            "Epoch 13/20\n",
            "445/445 [==============================] - 2s 5ms/sample - loss: 0.6454 - accuracy: 0.6697 - val_loss: 1.1228 - val_accuracy: 0.5837\n",
            "Epoch 14/20\n",
            "445/445 [==============================] - 2s 5ms/sample - loss: 0.5687 - accuracy: 0.7640 - val_loss: 1.2150 - val_accuracy: 0.5680\n",
            "Epoch 15/20\n",
            "445/445 [==============================] - 2s 5ms/sample - loss: 0.5069 - accuracy: 0.7910 - val_loss: 1.1831 - val_accuracy: 0.5719\n",
            "Epoch 16/20\n",
            "445/445 [==============================] - 2s 5ms/sample - loss: 0.4170 - accuracy: 0.8180 - val_loss: 1.2833 - val_accuracy: 0.5596\n",
            "Epoch 17/20\n",
            "445/445 [==============================] - 2s 5ms/sample - loss: 0.3751 - accuracy: 0.8292 - val_loss: 1.2042 - val_accuracy: 0.5955\n",
            "Epoch 18/20\n",
            "445/445 [==============================] - 2s 5ms/sample - loss: 0.3364 - accuracy: 0.8607 - val_loss: 1.3560 - val_accuracy: 0.5567\n",
            "Epoch 19/20\n",
            "445/445 [==============================] - 2s 5ms/sample - loss: 0.2806 - accuracy: 0.9056 - val_loss: 1.4878 - val_accuracy: 0.5494\n",
            "Epoch 20/20\n",
            "445/445 [==============================] - 2s 5ms/sample - loss: 0.2490 - accuracy: 0.9124 - val_loss: 1.5184 - val_accuracy: 0.5584\n"
          ],
          "name": "stdout"
        }
      ]
    },
    {
      "cell_type": "code",
      "metadata": {
        "id": "O6-INw-jWaq1",
        "colab_type": "code",
        "outputId": "f10b2a34-f223-40b1-99a0-dc9b58b17761",
        "colab": {
          "base_uri": "https://localhost:8080/",
          "height": 541
        }
      },
      "source": [
        "import matplotlib.pyplot as plt\n",
        "\n",
        "\n",
        "def graph(hist, metric):\n",
        "  plt.plot(hist.history[metric])\n",
        "  plt.plot(hist.history['val_'+metric])\n",
        "  plt.xlabel(\"Epochs\")\n",
        "  plt.xlabel(metric)\n",
        "  plt.legend([metric, \"val_\"+metric])\n",
        "  plt.show()\n",
        "\n",
        "graph(history, \"accuracy\")\n",
        "graph(history, \"loss\")"
      ],
      "execution_count": 6,
      "outputs": [
        {
          "output_type": "display_data",
          "data": {
            "image/png": "[encoded data removed]",
            "text/plain": [
              "<Figure size 432x288 with 1 Axes>"
            ]
          },
          "metadata": {
            "tags": []
          }
        },
        {
          "output_type": "display_data",
          "data": {
            "image/png": "[encoded data removed]",
            "text/plain": [
              "<Figure size 432x288 with 1 Axes>"
            ]
          },
          "metadata": {
            "tags": []
          }
        }
      ]
    },
    {
      "cell_type": "code",
      "metadata": {
        "id": "k7F9G262vsPe",
        "colab_type": "code",
        "colab": {
          "base_uri": "https://localhost:8080/",
          "height": 303
        },
        "outputId": "34fcb118-5639-4afb-8892-3a31e576bdc5"
      },
      "source": [
        "# Examine a few data samples and their precitions\n",
        "\n",
        "predictions = model.predict(np.array([test_data[-3], test_data[-4]]))\n",
        "\n",
        "print(\"Label disctionary: \", label_index)\n",
        "print(\"\\nText: \",data[-3])\n",
        "print(\"\\nClass: \",labels[-3])\n",
        "predicted_index = [i for i,arg in enumerate(predictions[0]) if arg==max(predictions[0])]\n",
        "print(\"Predicted index : {}\".format(predicted_index))\n",
        "print(\"Correct index : {}\".format(label_index[labels[-3]]))\n",
        "\n",
        "\n",
        "print(\"\\n\\n\\nText: \",data[-4])\n",
        "print(\"\\nClass: \",labels[-4])\n",
        "predicted_index = [i for i,arg in enumerate(predictions[1]) if arg==max(predictions[1])]\n",
        "print(\"Predicted index : {}\".format(predicted_index))\n",
        "print(\"Correct index : {}\".format(label_index[labels[-4]]))"
      ],
      "execution_count": 11,
      "outputs": [
        {
          "output_type": "stream",
          "text": [
            "Label disctionary:  {'sport': 1, 'business': 2, 'politics': 3, 'tech': 4, 'entertainment': 5}\n",
            "\n",
            "Text:  rem announce new glasgow concert us band rem have announced plans to perform for 10 000 scottish fans in a rescheduled gig.  the band will play in what has been dubbed europe s biggest tent on glasgow green on tuesday  14 june. they were forced to pull out of a concert at the secc in glasgow last month after bassist mike mills contracted flu. fans who bought tickets for the original 22 february show can attend the rescheduled concert. the june gig will act as a warm-up for rem s open air concert at balloch castle country park  on the banks of loch lomond  four days later.  promoters regular music booked glasgow green as the secc was not available on the most suitable date. mark mackie  director of regular music  said:  it is fantastic news and it really shows rem s commitment to their scottish fans that they are coming back to glasgow for what will be a truly unique gig.  the rem gigs will kick-start what promises to be a memorable summer for scottish music lovers.  grammy award winners u2 will play hampden on 21 june while oasis will also perform at the national stadium in glasgow on 29 june. coldplay have announced a concert at bellahouston park in glasgow on 1 july and t in the park will be held at balado  near kinross  from 9-10 july. ticketweb and the secc box office will write to customers who bought tickets for the february gig asking if they want to attend the new show. those who bought tickets in person are being urged to return to the point of purchase. anyone who cannot make the concert will be given a refund. the cut-off date for swapping tickets is 1 april  when those remaining will go on sale to the public.\n",
            "\n",
            "Class:  entertainment\n",
            "Predicted index : [5]\n",
            "Correct index : 5\n",
            "\n",
            "\n",
            "\n",
            "Text:  kilroy unveils immigration policy ex-chatshow host robert kilroy-silk has attacked uk policy on immigration saying britain s open door approach is hitting low wage  indigenous  workers.  the veritas leader said the only people to benefit from immigrants from places like poland were employers  landlords  members of the  metropolitan elite . the mep said his party would only admit foreigners who were required because they had specific skills to offer. and he argued asylum cost £2bn a year for 14 000 successful applicants.  mr kilroy-silk said that worked out at £143 000 per successful asylum seeker. he said veritas wanted to grant an amnesty for all those in britain claiming asylum and who have children and deport everyone else. britain should take its fair share of asylum seekers under the united nations convention on human rights  he argued. and mr kilroy-silk said he wanted to spend an extra £500m a year to help provide for refugees abroad.\n",
            "\n",
            "Class:  politics\n",
            "Predicted index : [3]\n",
            "Correct index : 3\n"
          ],
          "name": "stdout"
        }
      ]
    },
    {
      "cell_type": "code",
      "metadata": {
        "id": "7PhCYlObt1ck",
        "colab_type": "code",
        "colab": {}
      },
      "source": [
        "# We can visualize the embeddings of our model by executing this code\n",
        "\n",
        "import io\n",
        "out_v = io.open('vecs.tsv', 'w', encoding = 'utf-8')\n",
        "out_m = io.open('meta.tsv', 'w', encoding = 'utf-8')\n",
        "\n",
        "classification_layer = model.layers[0]\n",
        "weights = classification_layer.get_weights()[-1]\n",
        "\n",
        "'''\n",
        "\n",
        "Examine the way this model organized words in a higher dimensional space\n",
        "By taking the files produced above to \n",
        "\n",
        "https://projector.tensorflow.org/\n",
        "\n",
        "\n",
        "'''\n",
        "\n",
        "\n",
        "for word_num in range(1, vocab_size):\n",
        "  word = reverse_index[word_num]\n",
        "  embeddings = weights[word_num]\n",
        "  out_m.write(word+\"\\n\")\n",
        "  out_v.write(word+\"\\n\".join([str(x) for x in embeddings]) + \"\\n\")\n",
        "out_m.close()\n",
        "out_v.close()"
      ],
      "execution_count": 0,
      "outputs": []
    }
  ]
}